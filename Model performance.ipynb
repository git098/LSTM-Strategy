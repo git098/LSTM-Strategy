{
 "cells": [
  {
   "cell_type": "code",
   "execution_count": 1,
   "id": "476c5c3c-645b-49e7-aed1-6d46f6c6f190",
   "metadata": {},
   "outputs": [
    {
     "name": "stderr",
     "output_type": "stream",
     "text": [
      "2025-06-29 04:28:51.911659: I tensorflow/core/platform/cpu_feature_guard.cc:210] This TensorFlow binary is optimized to use available CPU instructions in performance-critical operations.\n",
      "To enable the following instructions: AVX2 FMA, in other operations, rebuild TensorFlow with the appropriate compiler flags.\n"
     ]
    },
    {
     "name": "stdout",
     "output_type": "stream",
     "text": [
      "--- Part 1: Training on COROMANDEL data ---\n",
      "Loading and preparing COROMANDEL.csv...\n",
      "Training LSTM model for 10 epochs...\n"
     ]
    },
    {
     "name": "stderr",
     "output_type": "stream",
     "text": [
      "/opt/anaconda3/lib/python3.12/site-packages/keras/src/layers/rnn/rnn.py:199: UserWarning: Do not pass an `input_shape`/`input_dim` argument to a layer. When using Sequential models, prefer using an `Input(shape)` object as the first layer in the model instead.\n",
      "  super().__init__(**kwargs)\n"
     ]
    },
    {
     "name": "stdout",
     "output_type": "stream",
     "text": [
      "Epoch 1/10\n",
      "\u001b[1m7401/7401\u001b[0m \u001b[32m━━━━━━━━━━━━━━━━━━━━\u001b[0m\u001b[37m\u001b[0m \u001b[1m183s\u001b[0m 24ms/step - loss: 236427.3750\n",
      "Epoch 2/10\n",
      "\u001b[1m7401/7401\u001b[0m \u001b[32m━━━━━━━━━━━━━━━━━━━━\u001b[0m\u001b[37m\u001b[0m \u001b[1m171s\u001b[0m 23ms/step - loss: 68444.7812\n",
      "Epoch 3/10\n",
      "\u001b[1m7401/7401\u001b[0m \u001b[32m━━━━━━━━━━━━━━━━━━━━\u001b[0m\u001b[37m\u001b[0m \u001b[1m181s\u001b[0m 24ms/step - loss: 10522.5811\n",
      "Epoch 4/10\n",
      "\u001b[1m7401/7401\u001b[0m \u001b[32m━━━━━━━━━━━━━━━━━━━━\u001b[0m\u001b[37m\u001b[0m \u001b[1m201s\u001b[0m 27ms/step - loss: 2442.5352\n",
      "Epoch 5/10\n",
      "\u001b[1m7401/7401\u001b[0m \u001b[32m━━━━━━━━━━━━━━━━━━━━\u001b[0m\u001b[37m\u001b[0m \u001b[1m211s\u001b[0m 28ms/step - loss: 1628.0411\n",
      "Epoch 6/10\n",
      "\u001b[1m7401/7401\u001b[0m \u001b[32m━━━━━━━━━━━━━━━━━━━━\u001b[0m\u001b[37m\u001b[0m \u001b[1m206s\u001b[0m 28ms/step - loss: 868.2862\n",
      "Epoch 7/10\n",
      "\u001b[1m7401/7401\u001b[0m \u001b[32m━━━━━━━━━━━━━━━━━━━━\u001b[0m\u001b[37m\u001b[0m \u001b[1m209s\u001b[0m 28ms/step - loss: 533.4524\n",
      "Epoch 8/10\n",
      "\u001b[1m7401/7401\u001b[0m \u001b[32m━━━━━━━━━━━━━━━━━━━━\u001b[0m\u001b[37m\u001b[0m \u001b[1m200s\u001b[0m 27ms/step - loss: 402.1417\n",
      "Epoch 9/10\n",
      "\u001b[1m7401/7401\u001b[0m \u001b[32m━━━━━━━━━━━━━━━━━━━━\u001b[0m\u001b[37m\u001b[0m \u001b[1m180s\u001b[0m 24ms/step - loss: 322.3852\n",
      "Epoch 10/10\n",
      "\u001b[1m7401/7401\u001b[0m \u001b[32m━━━━━━━━━━━━━━━━━━━━\u001b[0m\u001b[37m\u001b[0m \u001b[1m182s\u001b[0m 25ms/step - loss: 272.5186\n"
     ]
    },
    {
     "name": "stderr",
     "output_type": "stream",
     "text": [
      "WARNING:absl:You are saving your model as an HDF5 file via `model.save()` or `keras.saving.save_model(model)`. This file format is considered legacy. We recommend using instead the native Keras format, e.g. `model.save('my_model.keras')` or `keras.saving.save_model(model, 'my_model.keras')`. \n"
     ]
    },
    {
     "name": "stdout",
     "output_type": "stream",
     "text": [
      "Training complete. Saving model to coromandel_trained_model.h5...\n",
      "\n",
      "--- Part 2: Testing on DABUR data ---\n",
      "Loading and preparing DABUR.csv...\n"
     ]
    },
    {
     "name": "stderr",
     "output_type": "stream",
     "text": [
      "WARNING:absl:Compiled the loaded model, but the compiled metrics have yet to be built. `model.compile_metrics` will be empty until you train or evaluate the model.\n"
     ]
    },
    {
     "name": "stdout",
     "output_type": "stream",
     "text": [
      "Loading saved model from coromandel_trained_model.h5...\n",
      "Generating predictions on DABUR data...\n",
      "\u001b[1m7403/7403\u001b[0m \u001b[32m━━━━━━━━━━━━━━━━━━━━\u001b[0m\u001b[37m\u001b[0m \u001b[1m53s\u001b[0m 7ms/step\n",
      "Running backtesting simulation on DABUR predictions...\n",
      "Calculating final performance metrics...\n",
      "\n",
      "--- LSTM Backtest Report (Train: COROMANDEL, Test: DABUR) ---\n",
      "Initial Equity:       $100,000.00\n",
      "Final Equity:         $155,106.55\n",
      "Total Return:         55.11%\n",
      "Max Drawdown:         -30.87%\n",
      "Total Trades:         8550\n",
      "Win Rate:             46.20%\n",
      "------------------------------------------------------------\n",
      "\n"
     ]
    }
   ],
   "source": [
    "%run train_and_test.py"
   ]
  },
  {
   "cell_type": "code",
   "execution_count": null,
   "id": "0714804d-b6a7-42f4-877f-99e4aa8540f5",
   "metadata": {},
   "outputs": [],
   "source": []
  },
  {
   "cell_type": "code",
   "execution_count": null,
   "id": "746da771-3dfb-46ae-bd51-766583998989",
   "metadata": {},
   "outputs": [],
   "source": []
  }
 ],
 "metadata": {
  "kernelspec": {
   "display_name": "Python 3 (ipykernel)",
   "language": "python",
   "name": "python3"
  },
  "language_info": {
   "codemirror_mode": {
    "name": "ipython",
    "version": 3
   },
   "file_extension": ".py",
   "mimetype": "text/x-python",
   "name": "python",
   "nbconvert_exporter": "python",
   "pygments_lexer": "ipython3",
   "version": "3.12.7"
  }
 },
 "nbformat": 4,
 "nbformat_minor": 5
}
